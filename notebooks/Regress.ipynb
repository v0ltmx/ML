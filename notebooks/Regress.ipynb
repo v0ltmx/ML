{
 "cells": [
  {
   "cell_type": "code",
   "execution_count": null,
   "source": [
    "#All imports\r\n",
    "import pandas as pd\r\n",
    "import numpy as np\r\n",
    "\r\n",
    "from sklearn.preprocessing import LabelEncoder\r\n",
    "from imblearn.under_sampling import NearMiss \r\n",
    "from sklearn.preprocessing import MinMaxScaler\r\n",
    "from sklearn.preprocessing import StandardScaler\r\n",
    "\r\n",
    "import matplotlib.pyplot as plt\r\n",
    "import matplotlib\r\n",
    "\r\n",
    "from sklearn.model_selection import train_test_split\r\n",
    "from sklearn.model_selection import GridSearchCV\r\n",
    "from sklearn.model_selection import cross_validate\r\n",
    "from sklearn.linear_model import LinearRegression\r\n",
    "from sklearn.neighbors import KNeighborsRegressor\r\n",
    "from sklearn.neural_network import MLPRegressor\r\n",
    "from sklearn.svm import SVR\r\n",
    "from sklearn.model_selection import cross_val_predict\r\n",
    "from sklearn import metrics"
   ],
   "outputs": [],
   "metadata": {}
  },
  {
   "cell_type": "code",
   "execution_count": null,
   "source": [
    "#Dataset\r\n",
    "df = pd.read_csv('./bases/Real estate.csv', decimal=',')"
   ],
   "outputs": [],
   "metadata": {}
  },
  {
   "cell_type": "code",
   "execution_count": null,
   "source": [
    "df"
   ],
   "outputs": [],
   "metadata": {}
  },
  {
   "cell_type": "code",
   "execution_count": null,
   "source": [
    "# Checando algumas informações estatísticas.\r\n",
    "df.describe()"
   ],
   "outputs": [],
   "metadata": {}
  },
  {
   "cell_type": "code",
   "execution_count": null,
   "source": [
    "\r\n",
    "#Removendo a coluna 'No', pq não será útil.\r\n",
    "df.drop('No',axis=1,inplace=True)"
   ],
   "outputs": [],
   "metadata": {}
  },
  {
   "cell_type": "code",
   "execution_count": null,
   "source": [
    "# Renomeando as colunas\r\n",
    "df.rename(columns={\"X1 transaction date\":\"transaction_date\",\"X2 house age\":\"house_age\",\"X3 distance to the nearest MRT station\":\"distance_to_nearest_station\",\"X4 number of convenience stores\":\"number_of_convenience_stores\",\"X5 latitude\":\"latitude\",\"X6 longitude\":\"longitude\",\"Y house price of unit area\":\"house_price\"},inplace=True)"
   ],
   "outputs": [],
   "metadata": {}
  }
 ],
 "metadata": {
  "orig_nbformat": 4,
  "language_info": {
   "name": "python"
  }
 },
 "nbformat": 4,
 "nbformat_minor": 2
}