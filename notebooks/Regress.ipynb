{
 "cells": [
  {
   "cell_type": "code",
   "execution_count": null,
   "source": [
    "#All imports\r\n",
    "import pandas as pd\r\n",
    "import numpy as np\r\n",
    "\r\n",
    "from sklearn.preprocessing import LabelEncoder\r\n",
    "from imblearn.under_sampling import NearMiss \r\n",
    "from sklearn.preprocessing import MinMaxScaler\r\n",
    "from sklearn.preprocessing import StandardScaler\r\n",
    "\r\n",
    "import matplotlib.pyplot as plt\r\n",
    "import matplotlib\r\n",
    "\r\n",
    "from sklearn.model_selection import train_test_split\r\n",
    "from sklearn.model_selection import GridSearchCV\r\n",
    "from sklearn.model_selection import cross_validate\r\n",
    "from sklearn.linear_model import LinearRegression\r\n",
    "from sklearn.neighbors import KNeighborsRegressor\r\n",
    "from sklearn.neural_network import MLPRegressor\r\n",
    "from sklearn.svm import SVR\r\n",
    "from sklearn.model_selection import cross_val_predict\r\n",
    "from sklearn import metrics"
   ],
   "outputs": [],
   "metadata": {}
  },
  {
   "cell_type": "code",
   "execution_count": null,
   "source": [
    "#Dataset\r\n",
    "df = pd.read_csv('./bases/Real estate.csv', decimal=',')"
   ],
   "outputs": [],
   "metadata": {}
  },
  {
   "cell_type": "code",
   "execution_count": null,
   "source": [
    "df"
   ],
   "outputs": [],
   "metadata": {}
  }
 ],
 "metadata": {
  "orig_nbformat": 4,
  "language_info": {
   "name": "python"
  }
 },
 "nbformat": 4,
 "nbformat_minor": 2
}