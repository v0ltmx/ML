{
 "cells": [
  {
   "cell_type": "code",
   "execution_count": null,
   "source": [
    "#All imports\r\n",
    "import pandas as pd\r\n",
    "import numpy as np\r\n",
    "\r\n",
    "from sklearn.preprocessing import LabelEncoder\r\n",
    "from imblearn.under_sampling import NearMiss \r\n",
    "from sklearn.preprocessing import MinMaxScaler\r\n",
    "from sklearn.preprocessing import StandardScaler\r\n",
    "\r\n",
    "import matplotlib.pyplot as plt\r\n",
    "import matplotlib\r\n",
    "\r\n",
    "from sklearn.model_selection import train_test_split\r\n",
    "from sklearn.model_selection import GridSearchCV\r\n",
    "from sklearn.model_selection import cross_validate\r\n",
    "from sklearn.linear_model import LinearRegression\r\n",
    "from sklearn.neighbors import KNeighborsRegressor\r\n",
    "from sklearn.neural_network import MLPRegressor\r\n",
    "from sklearn.svm import SVR\r\n",
    "from sklearn.model_selection import cross_val_predict\r\n",
    "from sklearn import metrics"
   ],
   "outputs": [],
   "metadata": {}
  },
  {
   "cell_type": "code",
   "execution_count": null,
   "source": [
    "#Dataset\r\n",
    "df = pd.read_csv('./bases/Real estate.csv', decimal=',')"
   ],
   "outputs": [],
   "metadata": {}
  },
  {
   "cell_type": "code",
   "execution_count": null,
   "source": [
    "df"
   ],
   "outputs": [],
   "metadata": {}
  },
  {
   "cell_type": "code",
   "execution_count": null,
   "source": [
    "# Checando algumas informações estatísticas.\r\n",
    "df.describe()"
   ],
   "outputs": [],
   "metadata": {}
  },
  {
   "cell_type": "code",
   "execution_count": null,
   "source": [
    "\r\n",
    "#Removendo a coluna 'No', pq não será útil.\r\n",
    "df.drop('No',axis=1,inplace=True)"
   ],
   "outputs": [],
   "metadata": {}
  },
  {
   "cell_type": "code",
   "execution_count": null,
   "source": [
    "# Renomeando as colunas\r\n",
    "df.rename(columns={\"X1 transaction date\":\"transaction_date\",\"X2 house age\":\"house_age\",\"X3 distance to the nearest MRT station\":\"distance_to_nearest_station\",\"X4 number of convenience stores\":\"number_of_convenience_stores\",\"X5 latitude\":\"latitude\",\"X6 longitude\":\"longitude\",\"Y house price of unit area\":\"house_price\"},inplace=True)"
   ],
   "outputs": [],
   "metadata": {}
  },
  {
   "cell_type": "code",
   "execution_count": null,
   "source": [
    "df.info()"
   ],
   "outputs": [],
   "metadata": {}
  },
  {
   "cell_type": "code",
   "execution_count": null,
   "source": [
    "# verificando as colunas que tem valores não definidos\r\n",
    "hasNan = df.isnull().sum()\r\n",
    "print(hasNan)"
   ],
   "outputs": [],
   "metadata": {}
  },
  {
   "cell_type": "code",
   "execution_count": null,
   "source": [
    "#visualizando valores da coluna 'Preço da casa'\r\n",
    "df['house_price'].value_counts().plot(kind='bar')"
   ],
   "outputs": [],
   "metadata": {}
  },
  {
   "cell_type": "code",
   "execution_count": null,
   "source": [
    "#Vizualizando a distribuição dos preços das casas\r\n",
    "sns.displot(df, x=\"house_price\", bins=200)"
   ],
   "outputs": [],
   "metadata": {}
  },
  {
   "cell_type": "code",
   "execution_count": null,
   "source": [
    "x_tr=df.drop(['house_price'], axis=1)\r\n",
    "y_tr=df['house_price']"
   ],
   "outputs": [],
   "metadata": {}
  },
  {
   "cell_type": "code",
   "execution_count": null,
   "source": [
    "#Exec\r\n",
    "X_train, X_test, y_train, y_test = train_test_split(x_tr, y_tr, test_size=0.2, random_state=42)"
   ],
   "outputs": [],
   "metadata": {}
  },
  {
   "cell_type": "code",
   "execution_count": null,
   "source": [
    "X_train.shape"
   ],
   "outputs": [],
   "metadata": {}
  },
  {
   "cell_type": "code",
   "execution_count": null,
   "source": [
    "y_train.shape"
   ],
   "outputs": [],
   "metadata": {}
  },
  {
   "cell_type": "code",
   "execution_count": null,
   "source": [
    "y_train= y_train.values.reshape(-1, 1)\r\n",
    "y_test = y_test.values.reshape(-1, 1)"
   ],
   "outputs": [],
   "metadata": {}
  },
  {
   "cell_type": "code",
   "execution_count": null,
   "source": [
    "scalerX = StandardScaler().fit(X_train)\r\n",
    "scalery = StandardScaler().fit(y_train)\r\n",
    "X_train = scalerX.transform(X_train)\r\n",
    "y_train = scalery.transform(y_train)\r\n",
    "X_test = scalerX.transform(X_test)\r\n",
    "y_test = scalery.transform(y_test)"
   ],
   "outputs": [],
   "metadata": {}
  },
  {
   "cell_type": "code",
   "execution_count": null,
   "source": [
    "df.keys()"
   ],
   "outputs": [],
   "metadata": {}
  },
  {
   "cell_type": "markdown",
   "source": [
    "Classe RunRegression"
   ],
   "metadata": {}
  },
  {
   "cell_type": "code",
   "execution_count": null,
   "source": [
    "from sklearn.model_selection import KFold\r\n",
    "from sklearn import metrics\r\n",
    "\r\n",
    "class runregression:\r\n",
    "  '''\r\n",
    "    Parâmetros de entrada:\r\n",
    "\r\n",
    "    X: atributos de entradas\r\n",
    "    y: atributo alvo\r\n",
    "    model: algoritmo para construção do estimador\r\n",
    "    cv: quantidade de folds da validação cruzada\r\n",
    "\r\n",
    "    Guarda as métricas de cada execução em resultados e \r\n",
    "    Mostra os valores médios com desvio padrão para as métricas (mostraresultadomedio)   \r\n",
    "  '''\r\n",
    "\r\n",
    "  def __init__(self, X, y, model, cv = 5):\r\n",
    "    \r\n",
    "    self.__resultados = {\r\n",
    "      'MAE': [],\r\n",
    "      'MSE': [],\r\n",
    "      'RMSE': [],\r\n",
    "      'R2': []\r\n",
    "    }\r\n",
    "\r\n",
    "    print(f'validação cruzada com {cv} folds')\r\n",
    "    self.__avaliamodelo_cv(X, y, model, cv)\r\n",
    "\r\n",
    "  @property\r\n",
    "  def resultados(self):\r\n",
    "    return self.__resultados\r\n",
    "\r\n",
    "  def __avaliamodelo_cv(self, X, y, model, cv):\r\n",
    "    #gera as amostras para cv folds com embaralhamento (permite fazer várias validações cruzadas)\r\n",
    "    kf = KFold(shuffle=True, n_splits=cv)\r\n",
    "    #para cada fold: treina, testa e armazena os resultados\r\n",
    "    for train_index, test_index in kf.split(X, y):\r\n",
    "      model.fit(X.iloc[train_index], y.iloc[train_index])\r\n",
    "      pred = model.predict(X.iloc[test_index])\r\n",
    "      self.__resultados['MAE'].append(metrics.mean_absolute_error(y[test_index], pred))\r\n",
    "      self.__resultados['MSE'].append(metrics.mean_squared_error(y[test_index], pred))\r\n",
    "      self.__resultados['RMSE'].append(np.sqrt(metrics.mean_squared_error(y[test_index], pred)))\r\n",
    "      self.__resultados['R2'].append(metrics.r2_score(y[test_index], pred))\r\n",
    "\r\n",
    "  def mostraresultadomedio(self):\r\n",
    "    print(f\"MAE: {np.mean(self.__resultados['MAE']):.2f} +- {np.std(self.__resultados['MAE']):.2f}\")\r\n",
    "    print(f\"MSE: {np.mean(self.__resultados['MSE']):.2f} +- {np.std(self.__resultados['MSE']):.2f}\")\r\n",
    "    print(f\"RMSE: {np.mean(self.__resultados['RMSE']):.2f} +- {np.std(self.__resultados['RMSE']):.2f}\")\r\n",
    "    print(f\"R2: {np.mean(self.__resultados['R2']):.2f} +- {np.std(self.__resultados['R2']):.2f}\")"
   ],
   "outputs": [],
   "metadata": {}
  },
  {
   "cell_type": "code",
   "execution_count": null,
   "source": [
    "X_train, X_test, y_train, y_test = train_test_split(df.drop(columns={'house_price'}), df['house_price'], test_size=0.33)"
   ],
   "outputs": [],
   "metadata": {}
  },
  {
   "cell_type": "code",
   "execution_count": null,
   "source": [
    "y_train.shape"
   ],
   "outputs": [],
   "metadata": {}
  },
  {
   "cell_type": "code",
   "execution_count": null,
   "source": [
    "X_train.shape"
   ],
   "outputs": [],
   "metadata": {}
  },
  {
   "cell_type": "code",
   "execution_count": null,
   "source": [
    "y_train= y_train.values.reshape(-1, 1)\r\n",
    "y_test = y_test.values.reshape(-1, 1)"
   ],
   "outputs": [],
   "metadata": {}
  },
  {
   "cell_type": "code",
   "execution_count": null,
   "source": [
    "scalerX = StandardScaler().fit(X_train)\r\n",
    "scalery = StandardScaler().fit(y_train)\r\n",
    "X_train = scalerX.transform(X_train)\r\n",
    "y_train = scalery.transform(y_train)\r\n",
    "X_test = scalerX.transform(X_test)\r\n",
    "y_test = scalery.transform(y_test)"
   ],
   "outputs": [],
   "metadata": {}
  },
  {
   "cell_type": "markdown",
   "source": [
    "Regressão Linear"
   ],
   "metadata": {}
  },
  {
   "cell_type": "code",
   "execution_count": null,
   "source": [
    "cross_validation_RL = runregression(df.drop(columns={'house_price'}), df['house_price'], LinearRegression(), cv = 5)\r\n",
    "cross_validation_RL.mostraresultadomedio()"
   ],
   "outputs": [],
   "metadata": {}
  },
  {
   "cell_type": "markdown",
   "source": [
    "KNN"
   ],
   "metadata": {}
  },
  {
   "cell_type": "code",
   "execution_count": null,
   "source": [
    "#define os parâmetros a serem testados com o KNN\r\n",
    "param_grid_knn = {'n_neighbors': range(1,40,2), 'weights': ['uniform', 'distance'], 'p': [1, 2, 3]} \r\n",
    "#cria o objeto do gridsearchcv\r\n",
    "gridknn = GridSearchCV(KNeighborsRegressor(), param_grid_knn,  cv = 5, verbose = 1) \r\n",
    "#executa o gridsearchcv para a base separando X e y\r\n",
    "gridknn.fit(X_train,y_train)"
   ],
   "outputs": [],
   "metadata": {}
  },
  {
   "cell_type": "code",
   "execution_count": null,
   "source": [
    "gridknn.best_params_"
   ],
   "outputs": [],
   "metadata": {}
  },
  {
   "cell_type": "markdown",
   "source": [
    "Testando agora com os melhores parâmetros avaliados"
   ],
   "metadata": {}
  },
  {
   "cell_type": "code",
   "execution_count": null,
   "source": [
    "print('MAE:', metrics.mean_absolute_error(y_test, pred))\r\n",
    "print('MSE:', metrics.mean_squared_error(y_test, pred))\r\n",
    "print('RMSE:', np.sqrt(metrics.mean_squared_error(y_test, pred)))\r\n",
    "print('R2:', metrics.r2_score(y_test, pred))"
   ],
   "outputs": [],
   "metadata": {}
  },
  {
   "cell_type": "code",
   "execution_count": null,
   "source": [
    "knn = gridknn.best_estimator_ #usa o melhor modelo encontrado pelo gridsearchcv\r\n",
    "cross_validation_knn = runregression(df.drop(columns={'house_price'}), df['house_price'], knn, cv = 10)\r\n",
    "cross_validation_knn.mostraresultadomedio()"
   ],
   "outputs": [],
   "metadata": {}
  },
  {
   "cell_type": "markdown",
   "source": [
    "SVM"
   ],
   "metadata": {}
  },
  {
   "cell_type": "code",
   "execution_count": null,
   "source": [
    "param_grid_svm = {\r\n",
    "    'C': [1, 10, 100], \r\n",
    "    'gamma': ['auto', 'scale'], \r\n",
    "    'kernel': ['rbf', 'sigmoid']\r\n",
    "} \r\n",
    "gridsvm = GridSearchCV(SVR(),param_grid_svm, verbose = 3)\r\n",
    "gridsvm.fit(X_train,y_train)"
   ],
   "outputs": [],
   "metadata": {}
  }
 ],
 "metadata": {
  "orig_nbformat": 4,
  "language_info": {
   "name": "python"
  }
 },
 "nbformat": 4,
 "nbformat_minor": 2
}