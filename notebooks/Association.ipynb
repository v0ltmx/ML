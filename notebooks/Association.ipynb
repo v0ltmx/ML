{
 "cells": [
  {
   "cell_type": "code",
   "execution_count": null,
   "source": [
    "!pip install apyori"
   ],
   "outputs": [],
   "metadata": {}
  },
  {
   "cell_type": "code",
   "execution_count": null,
   "source": [
    "import pandas as pd\r\n",
    "import numpy as np\r\n",
    "from apyori import apriori\r\n",
    "from mlxtend.frequent_patterns import apriori\r\n",
    "from mlxtend.frequent_patterns import association_rules"
   ],
   "outputs": [],
   "metadata": {}
  },
  {
   "cell_type": "code",
   "execution_count": null,
   "source": [
    "#Dataset\r\n",
    "df = pd.read_csv('./bases/data.csv', decimal=',')\r\n",
    "df.shape\r\n",
    "df.head(50)"
   ],
   "outputs": [],
   "metadata": {}
  },
  {
   "cell_type": "code",
   "execution_count": null,
   "source": [
    "#Transforma o dataframe em uma lista de listas (cada lista é uma transação)\r\n",
    "transactions = []\r\n",
    "for i in range(0, df.shape[0]):\r\n",
    "    transactions.append([str(df.values[i, j]) for j in range(1, 10)])\r\n",
    "\r\n",
    "print(transactions[1])\r\n"
   ],
   "outputs": [],
   "metadata": {}
  },
  {
   "cell_type": "code",
   "execution_count": null,
   "source": [
    "#remove os nan das listas\r\n",
    "for i in range(len(transactions)):\r\n",
    "  transactions[i] = [item for item in transactions[i] if str(item) != 'nan']  \r\n",
    "\r\n",
    "print(transactions[1])"
   ],
   "outputs": [],
   "metadata": {}
  },
  {
   "cell_type": "code",
   "execution_count": null,
   "source": [
    "from apyori import apriori\r\n",
    "\r\n",
    "rules = apriori(transactions, min_support = 0.001, min_confidence = 0.2, min_lift = 3, min_length = 2)"
   ],
   "outputs": [],
   "metadata": {}
  },
  {
   "cell_type": "code",
   "execution_count": null,
   "source": [
    "association_rules = list(rules) #transforma resultado em uma lista\r\n",
    "\r\n",
    "print(association_rules[0])"
   ],
   "outputs": [],
   "metadata": {}
  },
  {
   "cell_type": "code",
   "execution_count": null,
   "source": [
    "#Mostra cada regra, com as informações de suporte, confiança e lift\r\n",
    "for item in association_rules:\r\n",
    "  # first index of the inner list\r\n",
    "  # Contains base item and add item\r\n",
    "  pair = item[0] \r\n",
    "  items = [x for x in pair]\r\n",
    "  print(\"Rule: \" + items[0] + \" -> \" + items[1])\r\n",
    "\r\n",
    "  #second index of the inner list\r\n",
    "  print(\"Support: \" + str(item[1])) \r\n",
    "\r\n",
    "  #third index of the list located at 0th\r\n",
    "  #of the third index of the inner list\r\n",
    "\r\n",
    "  print(\"Confidence: \" + str(item[2][0][2]))\r\n",
    "  print(\"Lift: \" + str(item[2][0][3]))\r\n",
    "  print(\"=====================================\")"
   ],
   "outputs": [],
   "metadata": {}
  }
 ],
 "metadata": {
  "orig_nbformat": 4,
  "language_info": {
   "name": "python"
  }
 },
 "nbformat": 4,
 "nbformat_minor": 2
}